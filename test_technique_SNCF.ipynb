{
 "cells": [
  {
   "cell_type": "code",
   "execution_count": 69,
   "id": "9c132a9a",
   "metadata": {},
   "outputs": [],
   "source": [
    "import pandas as pd\n",
    "import numpy as np\n",
    "import matplotlib.pyplot as plt\n",
    "from sklearn.model_selection import train_test_split\n",
    "from sklearn.linear_model import LinearRegression"
   ]
  },
  {
   "cell_type": "markdown",
   "id": "9245c0fc",
   "metadata": {},
   "source": [
    "# Test technique\n",
    "\n"
   ]
  },
  {
   "cell_type": "markdown",
   "id": "868c44ab",
   "metadata": {},
   "source": [
    "### 1- Les 20 premières stations en terme de validation"
   ]
  },
  {
   "cell_type": "code",
   "execution_count": 70,
   "id": "f6a48306",
   "metadata": {},
   "outputs": [],
   "source": [
    "# Charger les données dans un dataframe\n",
    "df = pd.read_csv(\"data.csv\", sep=';')\n",
    "df1 = pd.read_csv(\"data.csv\", sep=';')\n",
    "df2 = pd.read_csv(\"data.csv\", sep=';')"
   ]
  },
  {
   "cell_type": "code",
   "execution_count": 71,
   "id": "715d6e69",
   "metadata": {},
   "outputs": [
    {
     "data": {
      "text/html": [
       "<div>\n",
       "<style scoped>\n",
       "    .dataframe tbody tr th:only-of-type {\n",
       "        vertical-align: middle;\n",
       "    }\n",
       "\n",
       "    .dataframe tbody tr th {\n",
       "        vertical-align: top;\n",
       "    }\n",
       "\n",
       "    .dataframe thead th {\n",
       "        text-align: right;\n",
       "    }\n",
       "</style>\n",
       "<table border=\"1\" class=\"dataframe\">\n",
       "  <thead>\n",
       "    <tr style=\"text-align: right;\">\n",
       "      <th></th>\n",
       "      <th>JOUR</th>\n",
       "      <th>CODE_STIF_TRNS</th>\n",
       "      <th>CODE_STIF_RES</th>\n",
       "      <th>CODE_STIF_ARRET</th>\n",
       "      <th>LIBELLE_ARRET</th>\n",
       "      <th>ID_REFA_LDA</th>\n",
       "      <th>CATEGORIE_TITRE</th>\n",
       "      <th>NB_VALD</th>\n",
       "    </tr>\n",
       "  </thead>\n",
       "  <tbody>\n",
       "    <tr>\n",
       "      <th>0</th>\n",
       "      <td>01/06/2022</td>\n",
       "      <td>800</td>\n",
       "      <td>854</td>\n",
       "      <td>903</td>\n",
       "      <td>VILLENNES-SUR-SEINE</td>\n",
       "      <td>64949</td>\n",
       "      <td>NAVIGO</td>\n",
       "      <td>485</td>\n",
       "    </tr>\n",
       "    <tr>\n",
       "      <th>1</th>\n",
       "      <td>01/06/2022</td>\n",
       "      <td>800</td>\n",
       "      <td>854</td>\n",
       "      <td>92</td>\n",
       "      <td>BONNIERES</td>\n",
       "      <td>66741</td>\n",
       "      <td>?</td>\n",
       "      <td>5</td>\n",
       "    </tr>\n",
       "    <tr>\n",
       "      <th>2</th>\n",
       "      <td>01/06/2022</td>\n",
       "      <td>800</td>\n",
       "      <td>854</td>\n",
       "      <td>92</td>\n",
       "      <td>BONNIERES</td>\n",
       "      <td>66741</td>\n",
       "      <td>AMETHYSTE</td>\n",
       "      <td>8</td>\n",
       "    </tr>\n",
       "    <tr>\n",
       "      <th>3</th>\n",
       "      <td>01/06/2022</td>\n",
       "      <td>800</td>\n",
       "      <td>854</td>\n",
       "      <td>92</td>\n",
       "      <td>BONNIERES</td>\n",
       "      <td>66741</td>\n",
       "      <td>FGT</td>\n",
       "      <td>9</td>\n",
       "    </tr>\n",
       "    <tr>\n",
       "      <th>4</th>\n",
       "      <td>01/06/2022</td>\n",
       "      <td>800</td>\n",
       "      <td>854</td>\n",
       "      <td>92</td>\n",
       "      <td>BONNIERES</td>\n",
       "      <td>66741</td>\n",
       "      <td>NAVIGO</td>\n",
       "      <td>415</td>\n",
       "    </tr>\n",
       "    <tr>\n",
       "      <th>...</th>\n",
       "      <td>...</td>\n",
       "      <td>...</td>\n",
       "      <td>...</td>\n",
       "      <td>...</td>\n",
       "      <td>...</td>\n",
       "      <td>...</td>\n",
       "      <td>...</td>\n",
       "      <td>...</td>\n",
       "    </tr>\n",
       "    <tr>\n",
       "      <th>1048570</th>\n",
       "      <td>27/06/2022</td>\n",
       "      <td>100</td>\n",
       "      <td>110</td>\n",
       "      <td>99</td>\n",
       "      <td>BOULOGNE-JEAN JAURES</td>\n",
       "      <td>71147</td>\n",
       "      <td>FGT</td>\n",
       "      <td>5</td>\n",
       "    </tr>\n",
       "    <tr>\n",
       "      <th>1048571</th>\n",
       "      <td>23/06/2022</td>\n",
       "      <td>100</td>\n",
       "      <td>110</td>\n",
       "      <td>1228</td>\n",
       "      <td>MAIRIE ST-OUEN</td>\n",
       "      <td>72168</td>\n",
       "      <td>AUTRE TITRE</td>\n",
       "      <td>864</td>\n",
       "    </tr>\n",
       "    <tr>\n",
       "      <th>1048572</th>\n",
       "      <td>27/06/2022</td>\n",
       "      <td>100</td>\n",
       "      <td>ND</td>\n",
       "      <td>ND</td>\n",
       "      <td>Inconnu</td>\n",
       "      <td>0</td>\n",
       "      <td>AMETHYSTE</td>\n",
       "      <td>7</td>\n",
       "    </tr>\n",
       "    <tr>\n",
       "      <th>1048573</th>\n",
       "      <td>23/06/2022</td>\n",
       "      <td>100</td>\n",
       "      <td>110</td>\n",
       "      <td>1228</td>\n",
       "      <td>MAIRIE ST-OUEN</td>\n",
       "      <td>72168</td>\n",
       "      <td>NAVIGO</td>\n",
       "      <td>9663</td>\n",
       "    </tr>\n",
       "    <tr>\n",
       "      <th>1048574</th>\n",
       "      <td>27/06/2022</td>\n",
       "      <td>800</td>\n",
       "      <td>800</td>\n",
       "      <td>1201</td>\n",
       "      <td>EPINAY SUR ST11</td>\n",
       "      <td>72383</td>\n",
       "      <td>?</td>\n",
       "      <td>32</td>\n",
       "    </tr>\n",
       "  </tbody>\n",
       "</table>\n",
       "<p>1048575 rows × 8 columns</p>\n",
       "</div>"
      ],
      "text/plain": [
       "               JOUR  CODE_STIF_TRNS CODE_STIF_RES CODE_STIF_ARRET  \\\n",
       "0        01/06/2022             800           854             903   \n",
       "1        01/06/2022             800           854              92   \n",
       "2        01/06/2022             800           854              92   \n",
       "3        01/06/2022             800           854              92   \n",
       "4        01/06/2022             800           854              92   \n",
       "...             ...             ...           ...             ...   \n",
       "1048570  27/06/2022             100           110              99   \n",
       "1048571  23/06/2022             100           110            1228   \n",
       "1048572  27/06/2022             100            ND              ND   \n",
       "1048573  23/06/2022             100           110            1228   \n",
       "1048574  27/06/2022             800           800            1201   \n",
       "\n",
       "                LIBELLE_ARRET  ID_REFA_LDA CATEGORIE_TITRE  NB_VALD  \n",
       "0         VILLENNES-SUR-SEINE        64949          NAVIGO      485  \n",
       "1                   BONNIERES        66741               ?        5  \n",
       "2                   BONNIERES        66741       AMETHYSTE        8  \n",
       "3                   BONNIERES        66741             FGT        9  \n",
       "4                   BONNIERES        66741          NAVIGO      415  \n",
       "...                       ...          ...             ...      ...  \n",
       "1048570  BOULOGNE-JEAN JAURES        71147             FGT        5  \n",
       "1048571        MAIRIE ST-OUEN        72168     AUTRE TITRE      864  \n",
       "1048572               Inconnu            0       AMETHYSTE        7  \n",
       "1048573        MAIRIE ST-OUEN        72168          NAVIGO     9663  \n",
       "1048574       EPINAY SUR ST11        72383               ?       32  \n",
       "\n",
       "[1048575 rows x 8 columns]"
      ]
     },
     "execution_count": 71,
     "metadata": {},
     "output_type": "execute_result"
    }
   ],
   "source": [
    "df"
   ]
  },
  {
   "cell_type": "code",
   "execution_count": 73,
   "id": "b7b7309c",
   "metadata": {},
   "outputs": [],
   "source": [
    "#df1"
   ]
  },
  {
   "cell_type": "code",
   "execution_count": 74,
   "id": "aba6f402",
   "metadata": {},
   "outputs": [
    {
     "data": {
      "text/html": [
       "<div>\n",
       "<style scoped>\n",
       "    .dataframe tbody tr th:only-of-type {\n",
       "        vertical-align: middle;\n",
       "    }\n",
       "\n",
       "    .dataframe tbody tr th {\n",
       "        vertical-align: top;\n",
       "    }\n",
       "\n",
       "    .dataframe thead th {\n",
       "        text-align: right;\n",
       "    }\n",
       "</style>\n",
       "<table border=\"1\" class=\"dataframe\">\n",
       "  <thead>\n",
       "    <tr style=\"text-align: right;\">\n",
       "      <th></th>\n",
       "      <th>LIBELLE_ARRET</th>\n",
       "      <th>NB_VALD</th>\n",
       "    </tr>\n",
       "  </thead>\n",
       "  <tbody>\n",
       "    <tr>\n",
       "      <th>254</th>\n",
       "      <td>GARE DE LYON</td>\n",
       "      <td>4715</td>\n",
       "    </tr>\n",
       "    <tr>\n",
       "      <th>313</th>\n",
       "      <td>LA DEFENSE-GRANDE ARCHE</td>\n",
       "      <td>3798</td>\n",
       "    </tr>\n",
       "    <tr>\n",
       "      <th>255</th>\n",
       "      <td>GARE DU NORD</td>\n",
       "      <td>3145</td>\n",
       "    </tr>\n",
       "    <tr>\n",
       "      <th>460</th>\n",
       "      <td>NATION</td>\n",
       "      <td>3143</td>\n",
       "    </tr>\n",
       "    <tr>\n",
       "      <th>605</th>\n",
       "      <td>SAINT-LAZARE</td>\n",
       "      <td>3143</td>\n",
       "    </tr>\n",
       "    <tr>\n",
       "      <th>286</th>\n",
       "      <td>INVALIDES</td>\n",
       "      <td>3142</td>\n",
       "    </tr>\n",
       "    <tr>\n",
       "      <th>123</th>\n",
       "      <td>CHARLES DE GAULLE ETOILE</td>\n",
       "      <td>3136</td>\n",
       "    </tr>\n",
       "    <tr>\n",
       "      <th>188</th>\n",
       "      <td>DENFERT-ROCHEREAU</td>\n",
       "      <td>3134</td>\n",
       "    </tr>\n",
       "    <tr>\n",
       "      <th>253</th>\n",
       "      <td>GARE DE L'EST</td>\n",
       "      <td>3114</td>\n",
       "    </tr>\n",
       "    <tr>\n",
       "      <th>296</th>\n",
       "      <td>JAVEL</td>\n",
       "      <td>3108</td>\n",
       "    </tr>\n",
       "    <tr>\n",
       "      <th>27</th>\n",
       "      <td>AUSTERLITZ</td>\n",
       "      <td>3108</td>\n",
       "    </tr>\n",
       "    <tr>\n",
       "      <th>554</th>\n",
       "      <td>PORTE MAILLOT</td>\n",
       "      <td>3100</td>\n",
       "    </tr>\n",
       "    <tr>\n",
       "      <th>51</th>\n",
       "      <td>BIBLIOTHEQUE FRANCOIS MITTERRAND</td>\n",
       "      <td>3097</td>\n",
       "    </tr>\n",
       "    <tr>\n",
       "      <th>444</th>\n",
       "      <td>MONTPARNASSE</td>\n",
       "      <td>3079</td>\n",
       "    </tr>\n",
       "    <tr>\n",
       "      <th>614</th>\n",
       "      <td>SAINT-MICHEL NOTRE DAME</td>\n",
       "      <td>3074</td>\n",
       "    </tr>\n",
       "    <tr>\n",
       "      <th>415</th>\n",
       "      <td>MASSY-PALAISEAU</td>\n",
       "      <td>2926</td>\n",
       "    </tr>\n",
       "    <tr>\n",
       "      <th>497</th>\n",
       "      <td>PEREIRE-LEVALLOIS</td>\n",
       "      <td>2915</td>\n",
       "    </tr>\n",
       "    <tr>\n",
       "      <th>457</th>\n",
       "      <td>NANTERRE-UNIVERSITE</td>\n",
       "      <td>2581</td>\n",
       "    </tr>\n",
       "    <tr>\n",
       "      <th>598</th>\n",
       "      <td>SAINT-FARGEAU</td>\n",
       "      <td>2433</td>\n",
       "    </tr>\n",
       "    <tr>\n",
       "      <th>416</th>\n",
       "      <td>MASSY-VERRIERES</td>\n",
       "      <td>2410</td>\n",
       "    </tr>\n",
       "  </tbody>\n",
       "</table>\n",
       "</div>"
      ],
      "text/plain": [
       "                        LIBELLE_ARRET  NB_VALD\n",
       "254                      GARE DE LYON     4715\n",
       "313           LA DEFENSE-GRANDE ARCHE     3798\n",
       "255                      GARE DU NORD     3145\n",
       "460                            NATION     3143\n",
       "605                      SAINT-LAZARE     3143\n",
       "286                         INVALIDES     3142\n",
       "123          CHARLES DE GAULLE ETOILE     3136\n",
       "188                 DENFERT-ROCHEREAU     3134\n",
       "253                     GARE DE L'EST     3114\n",
       "296                             JAVEL     3108\n",
       "27                         AUSTERLITZ     3108\n",
       "554                     PORTE MAILLOT     3100\n",
       "51   BIBLIOTHEQUE FRANCOIS MITTERRAND     3097\n",
       "444                      MONTPARNASSE     3079\n",
       "614           SAINT-MICHEL NOTRE DAME     3074\n",
       "415                   MASSY-PALAISEAU     2926\n",
       "497                 PEREIRE-LEVALLOIS     2915\n",
       "457               NANTERRE-UNIVERSITE     2581\n",
       "598                     SAINT-FARGEAU     2433\n",
       "416                   MASSY-VERRIERES     2410"
      ]
     },
     "execution_count": 74,
     "metadata": {},
     "output_type": "execute_result"
    }
   ],
   "source": [
    "#On groupe par libellé d'arrêt car il y avait plusieurs données pour les même arrêts\n",
    "validation_counts = df.groupby(\"LIBELLE_ARRET\").size().reset_index(name=\"NB_VALD\") \n",
    "#on charge par ordre croissant nos arrêts\n",
    "data_20 = validation_counts.sort_values(by = [\"NB_VALD\"], ascending = False) \n",
    "#on prend les 20 premiers arrêts\n",
    "top_20 = data_20.head(20) \n",
    "#on affiche\n",
    "top_20"
   ]
  },
  {
   "cell_type": "markdown",
   "id": "2c17fe10",
   "metadata": {},
   "source": [
    "### 2-  Illustration graphique de ce classement\n",
    "\n",
    "J'ai donc décidé d'illuster le classement avec un histogramme car selon moi ce graphique permettai d'avoir une meilleure visualisation."
   ]
  },
  {
   "cell_type": "code",
   "execution_count": 75,
   "id": "78288084",
   "metadata": {},
   "outputs": [
    {
     "data": {
      "image/png": "[encoded data removed]",
      "text/plain": [
       "<Figure size 432x288 with 1 Axes>"
      ]
     },
     "metadata": {
      "needs_background": "light"
     },
     "output_type": "display_data"
    }
   ],
   "source": [
    "fig, ax = plt.subplots()\n",
    "#x = plt.bar(top_20[\"LIBELLE_ARRET\"], top_20[\"NB_VALD\"])\n",
    "#récuperation des données à afficher sur le graphique\n",
    "ax.bar(top_20[\"LIBELLE_ARRET\"], top_20[\"NB_VALD\"])\n",
    "\n",
    "# récupérer les étiquettes de l'axe x\n",
    "x_labels = ax.get_xticklabels()\n",
    "\n",
    "# incliner les étiquettes de 30 degrés\n",
    "plt.setp(x_labels, rotation=45, ha=\"right\", rotation_mode=\"anchor\")\n",
    "\n",
    "\n",
    "ax.set_xlabel(\"Nom de l'arrêt\")\n",
    "ax.set_ylabel(\"Nombre de validation\")\n",
    "plt.show()"
   ]
  },
  {
   "cell_type": "markdown",
   "id": "1f803c29",
   "metadata": {},
   "source": [
    "### 3-  Classification des arrêts \n",
    "\n",
    "En me basant uniquement sur le nombre de validations par titre de transport, j'ai décidé de classer les arrêts par catégorie \"peu fréquenté\", \"frequenté\" et \"très fréquenté\".\n",
    "Pour cela j'ai défini des seuils auxquels j'y ai mis des valeurs choisies arbitrairement mais en rapport avec les données."
   ]
  },
  {
   "cell_type": "code",
   "execution_count": 76,
   "id": "c93a44d3",
   "metadata": {},
   "outputs": [
    {
     "data": {
      "text/html": [
       "<div>\n",
       "<style scoped>\n",
       "    .dataframe tbody tr th:only-of-type {\n",
       "        vertical-align: middle;\n",
       "    }\n",
       "\n",
       "    .dataframe tbody tr th {\n",
       "        vertical-align: top;\n",
       "    }\n",
       "\n",
       "    .dataframe thead th {\n",
       "        text-align: right;\n",
       "    }\n",
       "</style>\n",
       "<table border=\"1\" class=\"dataframe\">\n",
       "  <thead>\n",
       "    <tr style=\"text-align: right;\">\n",
       "      <th></th>\n",
       "      <th>LIBELLE_ARRET</th>\n",
       "      <th>NB_VALD</th>\n",
       "      <th>Classe</th>\n",
       "    </tr>\n",
       "  </thead>\n",
       "  <tbody>\n",
       "    <tr>\n",
       "      <th>0</th>\n",
       "      <td>ABBESSES</td>\n",
       "      <td>1555</td>\n",
       "      <td>Très fréquenté</td>\n",
       "    </tr>\n",
       "    <tr>\n",
       "      <th>1</th>\n",
       "      <td>ABLON</td>\n",
       "      <td>1369</td>\n",
       "      <td>Très fréquenté</td>\n",
       "    </tr>\n",
       "    <tr>\n",
       "      <th>2</th>\n",
       "      <td>ACHERES-GRAND-CORMIER</td>\n",
       "      <td>1066</td>\n",
       "      <td>Très fréquenté</td>\n",
       "    </tr>\n",
       "    <tr>\n",
       "      <th>3</th>\n",
       "      <td>ACHERES-VILLE</td>\n",
       "      <td>1407</td>\n",
       "      <td>Très fréquenté</td>\n",
       "    </tr>\n",
       "    <tr>\n",
       "      <th>4</th>\n",
       "      <td>AEROPORT CHARLES DE GAULLE 1</td>\n",
       "      <td>1400</td>\n",
       "      <td>Très fréquenté</td>\n",
       "    </tr>\n",
       "    <tr>\n",
       "      <th>...</th>\n",
       "      <td>...</td>\n",
       "      <td>...</td>\n",
       "      <td>...</td>\n",
       "    </tr>\n",
       "    <tr>\n",
       "      <th>724</th>\n",
       "      <td>VOLTAIRE (LEON BLUM)</td>\n",
       "      <td>1568</td>\n",
       "      <td>Très fréquenté</td>\n",
       "    </tr>\n",
       "    <tr>\n",
       "      <th>725</th>\n",
       "      <td>VOSVES</td>\n",
       "      <td>539</td>\n",
       "      <td>Fréquenté</td>\n",
       "    </tr>\n",
       "    <tr>\n",
       "      <th>726</th>\n",
       "      <td>VULAINES-SUR-SEINE-SAMOREAU</td>\n",
       "      <td>960</td>\n",
       "      <td>Fréquenté</td>\n",
       "    </tr>\n",
       "    <tr>\n",
       "      <th>727</th>\n",
       "      <td>WAGRAM</td>\n",
       "      <td>1543</td>\n",
       "      <td>Très fréquenté</td>\n",
       "    </tr>\n",
       "    <tr>\n",
       "      <th>728</th>\n",
       "      <td>YERRES</td>\n",
       "      <td>1418</td>\n",
       "      <td>Très fréquenté</td>\n",
       "    </tr>\n",
       "  </tbody>\n",
       "</table>\n",
       "<p>729 rows × 3 columns</p>\n",
       "</div>"
      ],
      "text/plain": [
       "                    LIBELLE_ARRET  NB_VALD          Classe\n",
       "0                        ABBESSES     1555  Très fréquenté\n",
       "1                           ABLON     1369  Très fréquenté\n",
       "2           ACHERES-GRAND-CORMIER     1066  Très fréquenté\n",
       "3                   ACHERES-VILLE     1407  Très fréquenté\n",
       "4    AEROPORT CHARLES DE GAULLE 1     1400  Très fréquenté\n",
       "..                            ...      ...             ...\n",
       "724          VOLTAIRE (LEON BLUM)     1568  Très fréquenté\n",
       "725                        VOSVES      539       Fréquenté\n",
       "726   VULAINES-SUR-SEINE-SAMOREAU      960       Fréquenté\n",
       "727                        WAGRAM     1543  Très fréquenté\n",
       "728                        YERRES     1418  Très fréquenté\n",
       "\n",
       "[729 rows x 3 columns]"
      ]
     },
     "execution_count": 76,
     "metadata": {},
     "output_type": "execute_result"
    }
   ],
   "source": [
    "# définir les seuils pour la classification\n",
    "seuil_haut = 1000\n",
    "seuil_bas = 500\n",
    "# Classer les arrêts en se basant sur les seuils\n",
    "validation_counts['Classe'] = 'Peu fréquenté'\n",
    "validation_counts.loc[validation_counts['NB_VALD']>= seuil_haut, 'Classe'] = 'Très fréquenté'\n",
    "validation_counts.loc[(validation_counts['NB_VALD']< seuil_haut) & (validation_counts['NB_VALD']>= seuil_bas), 'Classe'] = 'Fréquenté'\n",
    "\n",
    "validation_counts"
   ]
  },
  {
   "cell_type": "markdown",
   "id": "48b1c00e",
   "metadata": {},
   "source": [
    "### 4-  Prédictions pour le nombre de validations\n"
   ]
  },
  {
   "cell_type": "code",
   "execution_count": 77,
   "id": "23114bf1",
   "metadata": {},
   "outputs": [],
   "source": [
    "# Creation of the prediction model\n",
    "from sklearn.linear_model import LogisticRegression\n",
    "import tensorflow as tf\n",
    "from time import time\n",
    "from datetime import datetime"
   ]
  },
  {
   "cell_type": "code",
   "execution_count": 78,
   "id": "045e02fa",
   "metadata": {},
   "outputs": [
    {
     "data": {
      "text/plain": [
       "JOUR               object\n",
       "CODE_STIF_TRNS      int64\n",
       "CODE_STIF_RES      object\n",
       "CODE_STIF_ARRET    object\n",
       "LIBELLE_ARRET      object\n",
       "ID_REFA_LDA         int64\n",
       "CATEGORIE_TITRE    object\n",
       "NB_VALD             int64\n",
       "dtype: object"
      ]
     },
     "execution_count": 78,
     "metadata": {},
     "output_type": "execute_result"
    }
   ],
   "source": [
    "logisticRegression = LogisticRegression(max_iter = 10000)\n",
    "df.dtypes"
   ]
  },
  {
   "cell_type": "markdown",
   "id": "3899cccc",
   "metadata": {},
   "source": [
    "Nous observons ci-dessus que la colonne \"JOUR\" est de type objet. Pour notre exercice, nous avons besoin d'un type datetime.\n",
    "C'est donc ce que nous faisons ci-dessous, changer le type de la colonne"
   ]
  },
  {
   "cell_type": "code",
   "execution_count": 79,
   "id": "c8fcb749",
   "metadata": {},
   "outputs": [],
   "source": [
    "#changer le type DATE\n",
    "df[\"JOUR\"] = pd.to_datetime(df[\"JOUR\"], format='%d/%m/%Y')\n",
    "df1[\"JOUR\"] = pd.to_datetime(df1[\"JOUR\"], format='%d/%m/%Y')\n",
    "df2[\"JOUR\"] = pd.to_datetime(df2[\"JOUR\"], format='%d/%m/%Y')"
   ]
  },
  {
   "cell_type": "markdown",
   "id": "9def9eff",
   "metadata": {},
   "source": [
    "On observe ci-dessous que le type a bel et bien été changé."
   ]
  },
  {
   "cell_type": "code",
   "execution_count": 80,
   "id": "8a46ce4f",
   "metadata": {},
   "outputs": [],
   "source": [
    "#df.dtypes"
   ]
  },
  {
   "cell_type": "code",
   "execution_count": 81,
   "id": "944f37c7",
   "metadata": {},
   "outputs": [
    {
     "data": {
      "text/plain": [
       "JOUR               datetime64[ns]\n",
       "CODE_STIF_TRNS              int64\n",
       "CODE_STIF_RES              object\n",
       "CODE_STIF_ARRET            object\n",
       "LIBELLE_ARRET              object\n",
       "ID_REFA_LDA                 int64\n",
       "CATEGORIE_TITRE            object\n",
       "NB_VALD                     int64\n",
       "dtype: object"
      ]
     },
     "execution_count": 81,
     "metadata": {},
     "output_type": "execute_result"
    }
   ],
   "source": [
    "df1.dtypes"
   ]
  },
  {
   "cell_type": "code",
   "execution_count": 82,
   "id": "c0ed155f",
   "metadata": {},
   "outputs": [],
   "source": [
    "#df1"
   ]
  },
  {
   "cell_type": "markdown",
   "id": "438847ad",
   "metadata": {},
   "source": [
    "##### On fait donc la prédiction pour le nombre de validations dans les stations \"OLYMPIADES\" et \"M. MONTROUGE\" sur la période du 24 au 30 juin 2022."
   ]
  },
  {
   "cell_type": "code",
   "execution_count": 83,
   "id": "0954b3f5",
   "metadata": {},
   "outputs": [
    {
     "name": "stdout",
     "output_type": "stream",
     "text": [
      "[  556.   918.  1042. 11155.   810.  1544.  4452.  3127.    34.  1462.\n",
      "   958.  3615.  1556.   130.  1084.   965.  3217. 11474.    75.  6952.\n",
      "    61.  1530.    15.    34.  1103.   508.   993.   973.   566.   485.\n",
      "    18.   134.   440.  2645.  1156.   803.   600.   117.   994.  1604.\n",
      "   586.  3404.  1514.   560.  3240.    28.  1490.   371.   597.   596.\n",
      "   122.   539. 10583. 10585.]\n"
     ]
    }
   ],
   "source": [
    "# On selectionne les lignes qui correspondent aux stations \"Montrouge\" et \"Olympiades\"\n",
    "df1 = df1[(df1[\"LIBELLE_ARRET\"] == \"MONTROUGE\") | (df1[\"LIBELLE_ARRET\"] == \"OLYMPIADES\")]\n",
    "\n",
    "# On selectionne les lignes qui correspondent à la période du 24 au 30 juin\n",
    "start_date = datetime.strptime(\"24/06/2022\", '%d/%m/%Y')\n",
    "end_date = datetime.strptime(\"30/06/2022\", '%d/%m/%Y')\n",
    "df1 = df1[(df1[\"JOUR\"] >= start_date) & (df1[\"JOUR\"] <= end_date)]\n",
    "\n",
    "# On créer une colonne \"noms\" pour stocker les noms de la station\n",
    "df1[\"noms\"] = df1[\"LIBELLE_ARRET\"]\n",
    "\n",
    "# On remplace les valeurs de la colonne \"noms\" par des valeurs numériques\n",
    "df1[\"noms\"].replace({\"MONTROUGE\": 0, \"OLYMPIADES\": 1}, inplace=True)\n",
    "\n",
    "# On selectionne les colonnes \"nombre_validation\" et \"noms\" pour entraîner le modèle\n",
    "X = df1[[\"NB_VALD\", \"noms\"]]\n",
    "y = df1[\"NB_VALD\"]\n",
    "\n",
    "# créer un objet de régression linéaire\n",
    "reg = LinearRegression()\n",
    "reg.fit(X, y)\n",
    "\n",
    "# utiliser le modèle pour faire des prédictions sur les données de test\n",
    "predictions = reg.predict(X)\n",
    "\n",
    "# afficher les prédictions\n",
    "print(predictions)"
   ]
  },
  {
   "cell_type": "markdown",
   "id": "a9dce154",
   "metadata": {},
   "source": [
    "##### Afin que les prédictions soient plus compréhensibles, on les affiche sur un histogramme."
   ]
  },
  {
   "cell_type": "code",
   "execution_count": 84,
   "id": "95639555",
   "metadata": {},
   "outputs": [
    {
     "data": {
      "image/png": "[encoded data removed]",
      "text/plain": [
       "<Figure size 432x288 with 1 Axes>"
      ]
     },
     "metadata": {
      "needs_background": "light"
     },
     "output_type": "display_data"
    }
   ],
   "source": [
    "plt.bar(df1[\"JOUR\"], predictions)\n",
    "\n",
    "plt.xlabel(\"JOUR\")\n",
    "plt.ylabel(\"Nombre de validations\")\n",
    "plt.title(\"Prédictions de nombre de validations pour les stations Montrouge et Olympiades\")\n",
    "\n",
    "plt.show()"
   ]
  },
  {
   "cell_type": "markdown",
   "id": "34bdd408",
   "metadata": {},
   "source": [
    "J'ai pu observer lorsqu'on ouvre l'excel qu'il comporte les jours entre le 24 juin et le 30 juin 2022. Donc, dans un troisième dataframe (que je vais modifié mais qui contient les mêmes données que le premier), je vais regrouper les résultats et les afficher comme pour les prédictions afin de pouvoir mieux les comparer.\n",
    "En effet, j'ai décidé d'utiliser cette technique car je n'ai pas trouvé sur internet ou sur le site que vous m'avez transféré un moyen de comparer mes prédictions à la réalité."
   ]
  },
  {
   "cell_type": "code",
   "execution_count": 85,
   "id": "45993447",
   "metadata": {},
   "outputs": [
    {
     "data": {
      "image/png": "[encoded data removed]",
      "text/plain": [
       "<Figure size 432x288 with 1 Axes>"
      ]
     },
     "metadata": {
      "needs_background": "light"
     },
     "output_type": "display_data"
    }
   ],
   "source": [
    "df2 = df2[(df2[\"LIBELLE_ARRET\"] == \"MONTROUGE\") | (df2[\"LIBELLE_ARRET\"] == \"OLYMPIADES\")]\n",
    "\n",
    "start_date = datetime.strptime(\"24/06/2022\", '%d/%m/%Y')\n",
    "end_date = datetime.strptime(\"30/06/2022\", '%d/%m/%Y')\n",
    "df2 = df2[(df2[\"JOUR\"] >= start_date) & (df2[\"JOUR\"] <= end_date)]\n",
    "\n",
    "# regrouper les validations par jour et par station\n",
    "validations_par_jour = df2.groupby([df2[\"JOUR\"].dt.date,'LIBELLE_ARRET']).sum()\n",
    "#comme la méthode grouby renvoie un dataframe avec un index multi-niveau alors je reinitialise l'index afin de rendre\n",
    "#les colonnes accessibles\n",
    "validations_par_jour = validations_par_jour.reset_index()\n",
    "\n",
    "# afficher les résultats\n",
    "validations_par_jour.plot(kind='bar',x=\"JOUR\",y='NB_VALD', rot=45)\n",
    "plt.xlabel(\"JOUR\")\n",
    "plt.ylabel('NB_VALD')\n",
    "plt.show()"
   ]
  },
  {
   "cell_type": "markdown",
   "id": "7594f2a8",
   "metadata": {},
   "source": [
    "On observe donc que les prédictions ne renvoient pas exactement les mêmes valeurs que les données réelles. En effet, lorsque nous comparons les prédictions du 25 juin, nous sommes à 7000 validations tandis qu'avec les données réelles nous sommes à 12500 validations. Nous passons donc à des valeurs 2 fois plus faible. "
   ]
  },
  {
   "cell_type": "markdown",
   "id": "d83656ca",
   "metadata": {},
   "source": [
    "Cependant, on observe que les mouvements des histogrammes sont relativement similaires. En effet, du 24 au 26 juin; pour les deux types de données; les validations diminuent afin d'augmenter avec un pic et de rediminuer de nouveau très bas et à la fin cela se stabilise.\n",
    "\n",
    "On en conclue que même si mes prédictions ne sont pas justes, nous pouvons avoir une vision globale de l'augmentation et de la diminution du nombre de validations par jour et les utiliser pour des analyses. Les différences de valeurs peuvent s'expliquer par une hausse de télétravail ou des jours fériés au début de l'année qui auraient été pris en compte dans mes prédictions et qui fausseraient donc mes résultats."
   ]
  },
  {
   "cell_type": "markdown",
   "id": "e29c2f88",
   "metadata": {},
   "source": [
    "### 5- 10 paires de stations dont les noms sont proches"
   ]
  },
  {
   "cell_type": "code",
   "execution_count": 86,
   "id": "e790eb1e",
   "metadata": {},
   "outputs": [],
   "source": [
    "from fuzzywuzzy import fuzz\n",
    "from fuzzywuzzy import process"
   ]
  },
  {
   "cell_type": "code",
   "execution_count": 87,
   "id": "5224ceb9",
   "metadata": {},
   "outputs": [
    {
     "name": "stdout",
     "output_type": "stream",
     "text": [
      "[('BUSSY-SAINT-GEORGES', 'SAINT-GEORGES'), ('BUSSY-SAINT-GEORGES', 'VILLENEUVE-SAINT-GEORGES'), ('CHAMPIGNY', 'LES BOULLEREAUX-CHAMPIGNY'), ('CHARLES DE GAULLE ETOILE', 'AEROPORT CHARLES DE GAULLE 1'), ('CHARLES DE GAULLE ETOILE', 'AEROPORT CHARLES DE GAULLE 2-TGV'), ('CHATELET-LES HALLES', 'LES HALLES'), ('CHATELET-LES HALLES', 'CHATELET'), ('LA VARENNE-CHENNEVIERES', 'VARENNE'), ('LE PARC-DE-SAINT-MAUR', 'SAINT-MAUR'), ('NEUILLY-PLAISANCE', 'PLAISANCE')]\n"
     ]
    }
   ],
   "source": [
    "# extraire les noms des stations\n",
    "stations = df[\"LIBELLE_ARRET\"].unique()\n",
    "\n",
    "# fonction fuzz.token_set_ratio pour trouver les paires de stations similaires\n",
    "pairs = []\n",
    "for station in stations:\n",
    "    match = process.extract(station, stations, limit=10, scorer=fuzz.token_set_ratio)\n",
    "    for m in match:\n",
    "        if m[1] > 80 and m[0] != station:\n",
    "            pairs.append((station, m[0]))\n",
    "            #print(pairs)\n",
    "print(pairs[:10])"
   ]
  },
  {
   "cell_type": "code",
   "execution_count": null,
   "id": "71754212",
   "metadata": {},
   "outputs": [],
   "source": []
  }
 ],
 "metadata": {
  "kernelspec": {
   "display_name": "Python 3 (ipykernel)",
   "language": "python",
   "name": "python3"
  },
  "language_info": {
   "codemirror_mode": {
    "name": "ipython",
    "version": 3
   },
   "file_extension": ".py",
   "mimetype": "text/x-python",
   "name": "python",
   "nbconvert_exporter": "python",
   "pygments_lexer": "ipython3",
   "version": "3.9.7"
  }
 },
 "nbformat": 4,
 "nbformat_minor": 5
}
